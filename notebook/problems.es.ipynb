{
 "cells": [
  {
   "cell_type": "markdown",
   "id": "d9d036c6",
   "metadata": {},
   "source": [
    "# Problemas de prueba de hipótesis"
   ]
  },
  {
   "cell_type": "markdown",
   "id": "d157c4db",
   "metadata": {},
   "source": [
    "## Ejercicio 1\n",
    "\n",
    "Usted es un nutricionista que investiga dos tipos diferentes de dietas para ver si existe una diferencia significativa en la pérdida de peso después de un mes. Eliges dos grupos aleatorios de personas; un grupo sigue la primera dieta y el otro sigue la segunda. Al final del mes, se registra la pérdida de peso (en kg) de cada persona:\n",
    "\n",
    "| Diet 1 | Diet 2 |\n",
    "|:-------|:-------|\n",
    "| 2.0 | 3.0 |\n",
    "| 2.5 | 3.2 |\n",
    "| 3.0 | 3.1 |\n",
    "| 2.8 | 2.9 |\n",
    "| 2.3 | 2.8 |\n",
    "| 2.7 | 3.0 |\n",
    "| 2.5 | 3.2 |\n",
    "\n",
    "Con estos datos se busca responder a la siguiente pregunta: ¿Existe una diferencia significativa en la pérdida de peso promedio entre las personas que siguieron la primera dieta y las que siguieron la segunda dieta?\n",
    "\n",
    "Para sacar conclusiones, siga los siguientes puntos:\n",
    "\n",
    "-Enunciar la hipótesis: hipótesis nula y alternativa.\n",
    "-Realizar la prueba para comprobar la hipótesis. Puede utilizar la prueba t de Student.\n",
    "-Analizar las conclusiones."
   ]
  },
  {
   "cell_type": "code",
   "execution_count": 1,
   "id": "8e0f3cf0",
   "metadata": {},
   "outputs": [
    {
     "name": "stdout",
     "output_type": "stream",
     "text": [
      "Estadístico t: -3.5383\n",
      "Valor p: 0.0041\n",
      "🔹 Rechazamos la hipótesis nula: Existe una diferencia significativa en la pérdida de peso entre ambas dietas.\n"
     ]
    }
   ],
   "source": [
    "# TODO\n",
    "\n",
    "import scipy.stats as stats\n",
    "\n",
    "# ======================================================\n",
    "# 🚀 Análisis de pérdida de peso entre dos dietas\n",
    "# ======================================================\n",
    "# Este script evalúa si hay una diferencia significativa en la pérdida de peso\n",
    "# entre dos dietas utilizando la prueba t de Student para muestras independientes.\n",
    "# ======================================================\n",
    "\n",
    "# 🔹 1. Definir las hipótesis\n",
    "# H0: No hay diferencia significativa en la pérdida de peso promedio entre Dieta 1 y Dieta 2 (µ1 = µ2)\n",
    "# HA: Sí hay una diferencia significativa en la pérdida de peso promedio entre ambas dietas (µ1 ≠ µ2)\n",
    "\n",
    "# 🔹 2. Datos de pérdida de peso de los participantes\n",
    "dieta_1 = [2.0, 2.5, 3.0, 2.8, 2.3, 2.7, 2.5]\n",
    "dieta_2 = [3.0, 3.2, 3.1, 2.9, 2.8, 3.0, 3.2]\n",
    "\n",
    "# 🔹 3. Realizar la prueba t de Student\n",
    "t_statistic, p_value = stats.ttest_ind(dieta_1, dieta_2, equal_var=True)\n",
    "\n",
    "# 🔹 4. Mostrar resultados\n",
    "print(f\"Estadístico t: {t_statistic:.4f}\")\n",
    "print(f\"Valor p: {p_value:.4f}\")\n",
    "\n",
    "# 🔹 5. Interpretación de los resultados\n",
    "alpha = 0.05\n",
    "if p_value < alpha:\n",
    "    print(\"🔹 Rechazamos la hipótesis nula: Existe una diferencia significativa en la pérdida de peso entre ambas dietas.\")\n",
    "else:\n",
    "    print(\"🔹 No se puede rechazar la hipótesis nula: No hay suficiente evidencia para afirmar que las dietas tienen diferencias significativas en la pérdida de peso.\")"
   ]
  },
  {
   "cell_type": "markdown",
   "id": "f432e18e",
   "metadata": {},
   "source": [
    "## ANOVA\n",
    "\n",
    "**ANOVA** (*Analysis of Variance - Análisis de variación*) Es una técnica estadística utilizada para comparar las medidas de dos o más grupos. La idea detrás de ANOVA es descomponer la variabilidad total de los datos en dos componentes: variabilidad entre grupos y variabilidad dentro de los grupos:\n",
    "\n",
    "- **Variabilidad entre grupos**: Esta variabilidad se refiere a las diferencias entre las medias del grupo. Si esta variabilidad es considerablemente mayor que la variabilidad dentro del grupo, podría ser una indicación de que al menos una de las medias del grupo es diferente.\n",
    "- **Variabilidad dentro del grupo**: Esta variabilidad se refiere a la dispersión de los datos dentro de cada grupo. Si todos los grupos tienen una variabilidad similar, entonces cualquier diferencia notable en las medias de los grupos podría considerarse significativa.\n",
    "\n",
    "Las hipótesis en ANOVA suelen incluir:\n",
    "\n",
    "- **Hipótesis nula** ($H₀$): Las medias de todos los grupos son iguales.\n",
    "- **Hipótesis alternativa** ($H₁$): Al menos una de las medias del grupo es diferente.\n",
    "\n",
    "Si el resultado de la prueba ANOVA es significativo (por ejemplo, un valor p inferior a un umbral como 0,05), esto sugiere que al menos la media de un grupo es diferente."
   ]
  },
  {
   "cell_type": "markdown",
   "id": "fc5f3721",
   "metadata": {},
   "source": [
    "## Ejercicio 2\n",
    "\n",
    "Un agricultor decide probar tres tipos diferentes de fertilizantes para determinar si alguno es superior en términos de producción de maíz. El agricultor planta maíz en 15 parcelas idénticas y utiliza los tres fertilizantes (5 parcelas para cada tipo). Al final de la temporada mide el rendimiento de maíz (en kg) de cada parcela, con el siguiente resultado:\n",
    "\n",
    "| Fertilizante 1 | Fertilizante 2 | Fertilizante 3 |\n",
    "|:-------------|:-------------|:-------------|\n",
    "| 20 | 22 | 24 |\n",
    "| 21 | 21 | 23 |\n",
    "| 20 | 23 | 22 |\n",
    "| 19 | 22 | 23 |\n",
    "| 20 | 21 | 24 |\n",
    "\n",
    "Con estos datos busca responder la siguiente pregunta: ¿Existe una diferencia significativa en el rendimiento promedio del maíz entre los tres tipos de fertilizantes?\n",
    "\n",
    "Para ayudarte, sigue los siguientes puntos:\n",
    "\n",
    "-Enunciar la hipótesis: hipótesis nula y alternativa.\n",
    "-Realizar la prueba ANOVA.\n",
    "-Analizar las conclusiones.\n",
    "-Si un fertilizante es mejor que otro, ¿cómo podemos saberlo?"
   ]
  },
  {
   "cell_type": "code",
   "execution_count": 2,
   "id": "eecad0ca",
   "metadata": {},
   "outputs": [
    {
     "name": "stdout",
     "output_type": "stream",
     "text": [
      "Estadístico F: 20.3158\n",
      "Valor p: 0.0001\n",
      "🔹 Rechazamos la hipótesis nula: Existe una diferencia significativa en el rendimiento del maíz entre los fertilizantes.\n",
      "\n",
      "🔹 Resultados de la prueba de Tukey:\n",
      "       Multiple Comparison of Means - Tukey HSD, FWER=0.05        \n",
      "==================================================================\n",
      "    group1         group2     meandiff p-adj  lower  upper  reject\n",
      "------------------------------------------------------------------\n",
      "Fertilizante 1 Fertilizante 2      1.8 0.0099 0.4572 3.1428   True\n",
      "Fertilizante 1 Fertilizante 3      3.2 0.0001 1.8572 4.5428   True\n",
      "Fertilizante 2 Fertilizante 3      1.4 0.0409 0.0572 2.7428   True\n",
      "------------------------------------------------------------------\n"
     ]
    }
   ],
   "source": [
    "# TODO\n",
    "\n",
    "import scipy.stats as stats\n",
    "import pandas as pd\n",
    "\n",
    "# ======================================================\n",
    "# 🚜 Análisis de rendimiento del maíz con ANOVA\n",
    "# ======================================================\n",
    "# Este script compara el rendimiento del maíz entre tres tipos de fertilizantes\n",
    "# usando la prueba ANOVA para determinar si hay una diferencia significativa.\n",
    "# ======================================================\n",
    "\n",
    "# 🔹 1. Definir las hipótesis\n",
    "# H0: No hay diferencia significativa en el rendimiento promedio del maíz entre los fertilizantes (µ1 = µ2 = µ3)\n",
    "# HA: Al menos un fertilizante tiene un rendimiento significativamente diferente.\n",
    "\n",
    "# 🔹 2. Datos de producción de maíz (kg) en parcelas\n",
    "fertilizante_1 = [20, 21, 20, 19, 20]\n",
    "fertilizante_2 = [22, 21, 23, 22, 21]\n",
    "fertilizante_3 = [24, 23, 22, 23, 24]\n",
    "\n",
    "# 🔹 3. Realizar la prueba ANOVA\n",
    "f_statistic, p_value = stats.f_oneway(fertilizante_1, fertilizante_2, fertilizante_3)\n",
    "\n",
    "# 🔹 4. Mostrar resultados\n",
    "print(f\"Estadístico F: {f_statistic:.4f}\")\n",
    "print(f\"Valor p: {p_value:.4f}\")\n",
    "\n",
    "# 🔹 5. Interpretación de los resultados\n",
    "alpha = 0.05\n",
    "if p_value < alpha:\n",
    "    print(\"🔹 Rechazamos la hipótesis nula: Existe una diferencia significativa en el rendimiento del maíz entre los fertilizantes.\")\n",
    "else:\n",
    "    print(\"🔹 No se puede rechazar la hipótesis nula: No hay suficiente evidencia para afirmar que los fertilizantes tienen diferencias significativas en el rendimiento.\")\n",
    "\n",
    "# 🔹 6. Identificar qué fertilizante es mejor (pruebas post hoc)\n",
    "if p_value < alpha:\n",
    "    from statsmodels.stats.multicomp import pairwise_tukeyhsd\n",
    "\n",
    "    # Crear DataFrame para pruebas post hoc\n",
    "    data = pd.DataFrame({\n",
    "        \"rendimiento\": fertilizante_1 + fertilizante_2 + fertilizante_3,\n",
    "        \"fertilizante\": [\"Fertilizante 1\"] * 5 + [\"Fertilizante 2\"] * 5 + [\"Fertilizante 3\"] * 5\n",
    "    })\n",
    "\n",
    "    # Aplicar la prueba de Tukey\n",
    "    tukey_result = pairwise_tukeyhsd(data[\"rendimiento\"], data[\"fertilizante\"], alpha=0.05)\n",
    "\n",
    "    print(\"\\n🔹 Resultados de la prueba de Tukey:\")\n",
    "    print(tukey_result)"
   ]
  },
  {
   "cell_type": "markdown",
   "id": "c63247a7",
   "metadata": {},
   "source": [
    "## *3 Conclusiones*\n",
    "\n",
    "El valor p de 0.0001 es menor que el nivel de significancia de 0.05, por lo que se rechaza la hipótesis nula. Esto indica que existe una diferencia estadísticamente significativa en el rendimiento del maíz entre los fertilizantes.\n"
   ]
  },
  {
   "cell_type": "markdown",
   "id": "bd1bcf23",
   "metadata": {},
   "source": [
    "## *4 El mejor fertilizante*"
   ]
  },
  {
   "cell_type": "code",
   "execution_count": 6,
   "id": "5f9078f4",
   "metadata": {},
   "outputs": [
    {
     "name": "stdout",
     "output_type": "stream",
     "text": [
      "Multiple Comparison of Means - Tukey HSD, FWER=0.05\n",
      "==================================================\n",
      "group1 group2 meandiff p-adj  lower  upper  reject\n",
      "--------------------------------------------------\n",
      "    F1     F2      1.8 0.0099 0.4572 3.1428   True\n",
      "    F1     F3      3.2 0.0001 1.8572 4.5428   True\n",
      "    F2     F3      1.4 0.0409 0.0572 2.7428   True\n",
      "--------------------------------------------------\n"
     ]
    }
   ],
   "source": [
    "import numpy as np\n",
    "from statsmodels.stats.multicomp import pairwise_tukeyhsd\n",
    "\n",
    "# Definir los datos de rendimiento del maíz para cada fertilizante\n",
    "fertilizer_1 = [20, 21, 20, 19, 20]\n",
    "fertilizer_2 = [22, 21, 23, 22, 21]\n",
    "fertilizer_3 = [24, 23, 22, 23, 24]\n",
    "\n",
    "# Concatenar los datos en un solo arreglo\n",
    "data = np.concatenate([fertilizer_1, fertilizer_2, fertilizer_3])\n",
    "\n",
    "# Etiquetas correspondientes a cada fertilizante\n",
    "labels = [\"F1\"] * len(fertilizer_1) + [\"F2\"] * len(fertilizer_2) + [\"F3\"] * len(fertilizer_3)\n",
    "\n",
    "# Aplicar la prueba de Tukey\n",
    "result = pairwise_tukeyhsd(data, labels, alpha=0.05)\n",
    "\n",
    "# Mostrar resultados\n",
    "print(result)"
   ]
  },
  {
   "cell_type": "markdown",
   "id": "8d3fe1a3",
   "metadata": {},
   "source": [
    "## Interpretacion\n",
    "\n",
    "El fertilizante 3 tiene el mayor rendimiento promedio, con una diferencia estadísticamente significativa respecto a los fertilizantes 1 y 2. El fertilizante 1 tiene el menor rendimiento y también muestra diferencias significativas con los otros dos. El fertilizante 2 tiene un rendimiento intermedio, mejor que el fertilizante 1 pero menor que el fertilizante 3. La mejor opción para maximizar la producción de maíz es el fertilizante 3.\n"
   ]
  }
 ],
 "metadata": {
  "kernelspec": {
   "display_name": "Python 3",
   "language": "python",
   "name": "python3"
  },
  "language_info": {
   "codemirror_mode": {
    "name": "ipython",
    "version": 3
   },
   "file_extension": ".py",
   "mimetype": "text/x-python",
   "name": "python",
   "nbconvert_exporter": "python",
   "pygments_lexer": "ipython3",
   "version": "3.11.4"
  }
 },
 "nbformat": 4,
 "nbformat_minor": 5
}
